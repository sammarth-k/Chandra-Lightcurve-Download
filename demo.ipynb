{
 "cells": [
  {
   "cell_type": "markdown",
   "metadata": {},
   "source": [
    "# chandralc\n"
   ]
  },
  {
   "cell_type": "code",
   "execution_count": 1,
   "metadata": {},
   "outputs": [],
   "source": [
    "# on import, the file index will be downloaded\n",
    "import chandralc as clc\n",
    "from chandralc import download, convert"
   ]
  },
  {
   "cell_type": "markdown",
   "metadata": {},
   "source": [
    "## Searching for files with J2000 coordinates"
   ]
  },
  {
   "cell_type": "code",
   "execution_count": 2,
   "metadata": {},
   "outputs": [
    {
     "name": "stdout",
     "output_type": "stream",
     "text": [
      "75919 of 75919 searched\r"
     ]
    }
   ],
   "source": [
    "# This process will take about a minute to compare coordinates with all files in the database\n",
    "coords = \"14 03 14.3 +54 18 06.2\"\n",
    "files = download.coordinate_search(coords)"
   ]
  },
  {
   "cell_type": "code",
   "execution_count": 3,
   "metadata": {},
   "outputs": [
    {
     "data": {
      "text/plain": [
       "['J140314.302+541806.23_934_lc_ascii.txt',\n",
       " 'J140314.302+541806.23_4731_lc_ascii.txt',\n",
       " 'J140314.302+541806.23_4732_lc_ascii.txt',\n",
       " 'J140314.302+541806.23_4733_lc_ascii.txt',\n",
       " 'J140314.302+541806.23_4734_lc_ascii.txt',\n",
       " 'J140314.302+541806.23_4735_lc_ascii.txt',\n",
       " 'J140314.302+541806.23_4736_lc_ascii.txt',\n",
       " 'J140314.302+541806.23_4737_lc_ascii.txt',\n",
       " 'J140314.302+541806.23_5297_lc_ascii.txt',\n",
       " 'J140314.302+541806.23_5300_lc_ascii.txt',\n",
       " 'J140314.302+541806.23_5309_lc_ascii.txt',\n",
       " 'J140314.302+541806.23_5322_lc_ascii.txt',\n",
       " 'J140314.302+541806.23_5323_lc_ascii.txt',\n",
       " 'J140314.302+541806.23_5337_lc_ascii.txt',\n",
       " 'J140314.302+541806.23_5338_lc_ascii.txt',\n",
       " 'J140314.302+541806.23_5339_lc_ascii.txt',\n",
       " 'J140314.302+541806.23_5340_lc_ascii.txt',\n",
       " 'J140314.302+541806.23_6114_lc_ascii.txt',\n",
       " 'J140314.302+541806.23_6115_lc_ascii.txt',\n",
       " 'J140314.302+541806.23_6118_lc_ascii.txt',\n",
       " 'J140314.302+541806.23_6152_lc_ascii.txt',\n",
       " 'J140314.302+541806.23_6169_lc_ascii.txt',\n",
       " 'J140314.302+541806.23_6170_lc_ascii.txt',\n",
       " 'J140314.302+541806.23_6175_lc_ascii.txt',\n",
       " 'J140314.302+541806.23_14341_lc_ascii.txt']"
      ]
     },
     "execution_count": 3,
     "metadata": {},
     "output_type": "execute_result"
    }
   ],
   "source": [
    "files"
   ]
  },
  {
   "cell_type": "markdown",
   "metadata": {},
   "source": [
    "## Getting galaxy to which the source belongs"
   ]
  },
  {
   "cell_type": "code",
   "execution_count": 4,
   "metadata": {},
   "outputs": [
    {
     "data": {
      "text/plain": [
       "'M101'"
      ]
     },
     "execution_count": 4,
     "metadata": {},
     "output_type": "execute_result"
    }
   ],
   "source": [
    "download.get_galaxy(files[0])"
   ]
  },
  {
   "cell_type": "markdown",
   "metadata": {},
   "source": [
    "## Extracting coordinates from filename"
   ]
  },
  {
   "cell_type": "code",
   "execution_count": 5,
   "metadata": {},
   "outputs": [],
   "source": [
    "coordinates = convert.extract_coords(files[0])"
   ]
  },
  {
   "cell_type": "code",
   "execution_count": 6,
   "metadata": {},
   "outputs": [
    {
     "data": {
      "text/plain": [
       "'14 03 14.302 +54 18 06.23'"
      ]
     },
     "execution_count": 6,
     "metadata": {},
     "output_type": "execute_result"
    }
   ],
   "source": [
    "coordinates"
   ]
  },
  {
   "cell_type": "code",
   "execution_count": 7,
   "metadata": {},
   "outputs": [],
   "source": [
    "# convert J2000 coordinates to degrees\n",
    "ra, dec = convert.to_deg(coordinates)"
   ]
  },
  {
   "cell_type": "code",
   "execution_count": 8,
   "metadata": {},
   "outputs": [
    {
     "data": {
      "text/plain": [
       "(210.80959167, 54.30173056)"
      ]
     },
     "execution_count": 8,
     "metadata": {},
     "output_type": "execute_result"
    }
   ],
   "source": [
    "ra, dec"
   ]
  },
  {
   "cell_type": "markdown",
   "metadata": {},
   "source": [
    "## Retrieving a list of files"
   ]
  },
  {
   "cell_type": "code",
   "execution_count": 9,
   "metadata": {},
   "outputs": [
    {
     "data": {
      "text/plain": [
       "['J123926.918-114008.98_1586_lc_ascii.txt',\n",
       " 'J123926.918-114008.98_9532_lc_ascii.txt',\n",
       " 'J123926.918-114008.98_9533_lc_ascii.txt',\n",
       " 'J123928.550-113452.75_1586_lc_ascii.txt',\n",
       " 'J123928.550-113452.75_9532_lc_ascii.txt',\n",
       " 'J123928.550-113452.75_9533_lc_ascii.txt',\n",
       " 'J123929.270-113847.83_1586_lc_ascii.txt',\n",
       " 'J123929.270-113847.83_9532_lc_ascii.txt',\n",
       " 'J123929.270-113847.83_9533_lc_ascii.txt',\n",
       " 'J123929.539-114552.85_1586_lc_ascii.txt']"
      ]
     },
     "execution_count": 9,
     "metadata": {},
     "output_type": "execute_result"
    }
   ],
   "source": [
    "# List of files in a galaxy\n",
    "download.get_files(\"M104\")[:10] # truncated"
   ]
  },
  {
   "cell_type": "code",
   "execution_count": 10,
   "metadata": {},
   "outputs": [
    {
     "data": {
      "text/plain": [
       "['J140151.077+541811.66_5340_lc_ascii.txt',\n",
       " 'J140151.077+541811.66_6114_lc_ascii.txt',\n",
       " 'J140151.077+541811.66_6115_lc_ascii.txt',\n",
       " 'J140151.077+541811.66_6118_lc_ascii.txt',\n",
       " 'J140151.077+541811.66_6152_lc_ascii.txt',\n",
       " 'J140151.077+541811.66_6169_lc_ascii.txt',\n",
       " 'J140151.077+541811.66_6170_lc_ascii.txt',\n",
       " 'J140151.077+541811.66_6175_lc_ascii.txt',\n",
       " 'J140151.077+541811.66_14341_lc_ascii.txt',\n",
       " 'J140203.506+541828.91_934_lc_ascii.txt']"
      ]
     },
     "execution_count": 10,
     "metadata": {},
     "output_type": "execute_result"
    }
   ],
   "source": [
    "# list of all available files\n",
    "download.get_all_files()[:10] # truncated"
   ]
  },
  {
   "cell_type": "markdown",
   "metadata": {},
   "source": [
    "## Downloading lightcurves"
   ]
  },
  {
   "cell_type": "code",
   "execution_count": 11,
   "metadata": {},
   "outputs": [
    {
     "name": "stdout",
     "output_type": "stream",
     "text": [
      "    Progress: 25 of 25 downloaded | Total Size: 48.95 MB | Time Elapsed: 27.53 seconds\r"
     ]
    }
   ],
   "source": [
    "# taking the list 'files' as the list we want to download\n",
    "# speeds will vary according to your internet speed\n",
    "download.download_lcs(files , directory=\"./lcs\") # will download to lcs directory"
   ]
  },
  {
   "cell_type": "code",
   "execution_count": 12,
   "metadata": {},
   "outputs": [
    {
     "name": "stdout",
     "output_type": "stream",
     "text": [
      "    Progress: 1 of 1 downloaded | Total Size: 4.3 MB | Time Elapsed: 0.71 seconds\r"
     ]
    }
   ],
   "source": [
    "# to download individual lightcurves we need to create a single-element list\n",
    "download.download_lcs([files[0]])"
   ]
  },
  {
   "cell_type": "markdown",
   "metadata": {},
   "source": [
    "## ChandraLightcurve Objects"
   ]
  },
  {
   "cell_type": "code",
   "execution_count": 13,
   "metadata": {},
   "outputs": [],
   "source": [
    "# Creating a ChandraLightcurve object\n",
    "lc = clc.ChandraLightcurve(f\"./lcs/{files[0]}\")"
   ]
  },
  {
   "cell_type": "code",
   "execution_count": 14,
   "metadata": {},
   "outputs": [
    {
     "name": "stdout",
     "output_type": "stream",
     "text": [
      "Total Observation time (in kiloseconds):\n",
      "99.678\n",
      "Net Photon Counts:\n",
      "195.0\n",
      "Net Count Rate (Counts / kilosecond):\n",
      "1.956\n",
      "Source Coordinates (J2000):\n",
      "14 03 14.302 +54 18 06.23\n",
      "Observation ID:\n",
      "934\n",
      "Path:\n",
      "./lcs/J140314.302+541806.23_934_lc_ascii.txt\n"
     ]
    }
   ],
   "source": [
    "# Attributes\n",
    "print(\"Total Observation time (in kiloseconds):\",lc.time,\n",
    "      \"Net Photon Counts:\", lc.count, \n",
    "      \"Net Count Rate (Counts / kilosecond):\", lc.rate_ks, \n",
    "      \"Source Coordinates (J2000):\", lc.coords,\n",
    "      \"Observation ID:\", lc.obsid,\n",
    "      \"Path:\", lc.path,\n",
    "      sep=\"\\n\")"
   ]
  },
  {
   "cell_type": "markdown",
   "metadata": {},
   "source": [
    "### Cumulative Count Plots"
   ]
  },
  {
   "cell_type": "code",
   "execution_count": 15,
   "metadata": {},
   "outputs": [],
   "source": [
    "lc.cumulative(figsize=(10,6), color=\"red\", save=True,show=False)"
   ]
  },
  {
   "cell_type": "markdown",
   "metadata": {},
   "source": [
    "<img src=\"chandralc_cumulative_14 03 14.302 +54 18 06.23_934.jpg\">"
   ]
  },
  {
   "cell_type": "markdown",
   "metadata": {},
   "source": [
    "### Binned Lightcurve"
   ]
  },
  {
   "cell_type": "code",
   "execution_count": 16,
   "metadata": {},
   "outputs": [],
   "source": [
    "lc.lightcurve(binning=500, figsize=(10,6), color=\"orange\", save=True, show=False)"
   ]
  },
  {
   "cell_type": "markdown",
   "metadata": {},
   "source": [
    "<img src=\"chandralc_lightcurve_14 03 14.302 +54 18 06.23_934_500.jpg\">"
   ]
  },
  {
   "cell_type": "markdown",
   "metadata": {},
   "source": [
    "### Power Spectral Density"
   ]
  },
  {
   "cell_type": "code",
   "execution_count": 17,
   "metadata": {},
   "outputs": [
    {
     "data": {
      "text/plain": [
       "7.323802718589272"
      ]
     },
     "execution_count": 17,
     "metadata": {},
     "output_type": "execute_result"
    }
   ],
   "source": [
    "# The number at the bottom is the time period of the frequency with maximum amplitude\n",
    "lc.psd(save=True, show=False)"
   ]
  },
  {
   "cell_type": "markdown",
   "metadata": {},
   "source": [
    "<img src=\"chandralc_psd_14 03 14.302 +54 18 06.23_934.jpg\">"
   ]
  }
 ],
 "metadata": {
  "kernelspec": {
   "display_name": "Python 3",
   "language": "python",
   "name": "python3"
  },
  "language_info": {
   "codemirror_mode": {
    "name": "ipython",
    "version": 3
   },
   "file_extension": ".py",
   "mimetype": "text/x-python",
   "name": "python",
   "nbconvert_exporter": "python",
   "pygments_lexer": "ipython3",
   "version": "3.8.1"
  }
 },
 "nbformat": 4,
 "nbformat_minor": 4
}
